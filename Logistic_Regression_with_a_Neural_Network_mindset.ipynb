
    
  {
   "cell_type": "markdown",
   "metadata": {},
   "source": [
    "## Table of Contents\n",
    "- [1 - Packages](#1)\n",
    "- [2 - Overview of the Problem set](#2)\n",
    "    - [Exercise 1](#ex-1)\n",
    "    - [Exercise 2](#ex-2)\n",
    "- [3 - General Architecture of the learning algorithm](#3)\n",
    "- [4 - Building the parts of our algorithm](#4)\n",
    "    - [4.1 - Helper functions](#4-1)\n",
    "        - [Exercise 3 - sigmoid](#ex-3)\n",
    "    - [4.2 - Initializing parameters](#4-2)\n",
    "        - [Exercise 4 - initialize_with_zeros](#ex-4)\n",
    "    - [4.3 - Forward and Backward propagation](#4-3)\n",
    "        - [Exercise 5 - propagate](#ex-5)\n",
    "    - [4.4 - Optimization](#4-4)\n",
    "        - [Exercise 6 - optimize](#ex-6)\n",
    "        - [Exercise 7 - predict](#ex-7)\n",
    "- [5 - Merge all functions into a model](#5)\n",
    "    - [Exercise 8 - model](#ex-8)\n",
    "- [6 - Further analysis (optional/ungraded exercise)](#6)\n",
    "- [7 - Test with your own image (optional/ungraded exercise)](#7)"
   ]
  },
  {
   "cell_type": "markdown",
   "metadata": {},
   "source": [
    "<a name='1'></a>\n",
    "## 1 - Packages ##\n",
    "\n",
    "First, let's run the cell below to import all the packages that you will need during this assignment. \n",
    "- [numpy](https://numpy.org/doc/1.20/) is the fundamental package for scientific computing with Python.\n",
    "- [h5py](http://www.h5py.org) is a common package to interact with a dataset that is stored on an H5 file.\n",
    "- [matplotlib](http://matplotlib.org) is a famous library to plot graphs in Python.\n",
    "- [PIL](https://pillow.readthedocs.io/en/stable/) and [scipy](https://www.scipy.org/) are used here to test your model with your own picture at the end."
   ]
  },
  {
   "cell_type": "code",
   "execution_count": null,
   "metadata": {},
   "outputs": [],
   "source": [
    "import numpy as np\n",
    "import copy\n",
    "import matplotlib.pyplot as plt\n",
    "import h5py\n",
    "import scipy\n",
    "from PIL import Image\n",
    "from scipy import ndimage\n",
    "from lr_utils import load_dataset\n",
    "from public_tests import *\n",
    "\n",
    "%matplotlib inline\n",
    "%load_ext autoreload\n",
    "%autoreload 2"
   ]
  },
  {
   "cell_type": "markdown",
   "metadata": {},
   "source": [
    "<a name='2'></a>\n",
    "## 2 - Overview of the Problem set ##\n",
    "\n",
    "**Problem Statement**: You are given a dataset (\"data.h5\") containing:\n",
    "    - a training set of m_train images labeled as cat (y=1) or non-cat (y=0)\n",
    "    - a test set of m_test images labeled as cat or non-cat\n",
    "    - each image is of shape (num_px, num_px, 3) where 3 is for the 3 channels (RGB). Thus, each image is square (height = num_px) and (width = num_px).\n",
    "\n",
    "You will build a simple image-recognition algorithm that can correctly classify pictures as cat or non-cat.\n",
    "\n",
    "Let's get more familiar with the dataset. Load the data by running the following code."
   ]
  },
  {
   "cell_type": "code",
   "execution_count": null,
   "metadata": {},
   "outputs": [],
   "source": [
    "# Loading the data (cat/non-cat)\n",
    "train_set_x_orig, train_set_y, test_set_x_orig, test_set_y, classes = load_dataset()"
   ]
  },
  {
   "cell_type": "markdown",
   "metadata": {},
   "source": [
    "We added \"_orig\" at the end of image datasets (train and test) because we are going to preprocess them. After preprocessing, we will end up with train_set_x and test_set_x (the labels train_set_y and test_set_y don't need any preprocessing).\n",
    "\n",
    "Each line of your train_set_x_orig and test_set_x_orig is an array representing an image. You can visualize an example by running the following code. Feel free also to change the `index` value and re-run to see other images. "
   ]
  },
  {
   "cell_type": "code",
   "execution_count": null,
   "metadata": {},
   "outputs": [],
   "source": [
    "# Example of a picture\n",
    "index = 25\n",
    "plt.imshow(train_set_x_orig[index])\n",
    "print (\"y = \" + str(train_set_y[:, index]) + \", it's a '\" + classes[np.squeeze(train_set_y[:, index])].decode(\"utf-8\") +  \"' picture.\")"
   ]
  },
  {
   "cell_type": "markdown",
   "metadata": {},
   "source": [
    "Many software bugs in deep learning come from having matrix/vector dimensions that don't fit. If you can keep your matrix/vector dimensions straight you will go a long way toward eliminating many bugs. \n",
    "\n",
    "<a name='ex-1'></a>\n",
    "### Exercise 1\n",
    "Find the values for:\n",
    "    - m_train (number of training examples)\n",
    "    - m_test (number of test examples)\n",
    "    - num_px (= height = width of a training image)\n",
    "Remember that `train_set_x_orig` is a numpy-array of shape (m_train, num_px, num_px, 3). For instance, you can access `m_train` by writing `train_set_x_orig.shape[0]`."
   ]
  },
  {
   "cell_type": "code",
   "execution_count": null,
   "metadata": {
    "deletable": false,
    "nbgrader": {
     "cell_type": "code",
     "checksum": "921fe679a632ec7ec9963069fa405725",
     "grade": false,
     "grade_id": "cell-c4e7e9c1f174eb83",
     "locked": false,
     "schema_version": 3,
     "solution": true,
     "task": false
    }
   },
   "outputs": [],
   "source": [
    "#(≈ 3 lines of code)\n",
    "# m_train = \n",
    "# m_test = \n",
    "# num_px = \n",
    "# YOUR CODE STARTS HERE\n",
    "m_train = train_set_x_orig.shape[0]\n",
    "m_test = test_set_x_orig.shape[0]\n",
    "num_px = train_set_x_orig.shape[1]\n",
    "\n",
    "# YOUR CODE ENDS HERE\n",
    "\n",
    "print (\"Number of training examples: m_train = \" + str(m_train))\n",
    "print (\"Number of testing examples: m_test = \" + str(m_test))\n",
    "print (\"Height/Width of each image: num_px = \" + str(num_px))\n",
    "print (\"Each image is of size: (\" + str(num_px) + \", \" + str(num_px) + \", 3)\")\n",
    "print (\"train_set_x shape: \" + str(train_set_x_orig.shape))\n",
    "print (\"train_set_y shape: \" + str(train_set_y.shape))\n",
    "print (\"test_set_x shape: \" + str(test_set_x_orig.shape))\n",
    "print (\"test_set_y shape: \" + str(test_set_y.shape))"
   ]
  },
  {
   "cell_type": "markdown",
   "metadata": {},
   "source": [
    "**Expected Output for m_train, m_test and num_px**: \n",
    "<table style=\"width:15%\">\n",
    "  <tr>\n",
    "    <td> m_train </td>\n",
    "    <td> 209 </td> \n",
    "  </tr>\n",
    "  \n",
    "  <tr>\n",
    "    <td>m_test</td>\n",
    "    <td> 50 </td> \n",
    "  </tr>\n",
    "  \n",
    "  <tr>\n",
    "    <td>num_px</td>\n",
    "    <td> 64 </td> \n",
    "  </tr>\n",
    "  \n",
    "</table>\n"
   ]
  },
  {
   "cell_type": "markdown",
   "metadata": {},
   "source": [
    "For convenience, you should now reshape images of shape (num_px, num_px, 3) in a numpy-array of shape (num_px $*$ num_px $*$ 3, 1). After this, our training (and test) dataset is a numpy-array where each column represents a flattened image. There should be m_train (respectively m_test) columns.\n",
    "\n",
    "<a name='ex-2'></a>\n",
    "### Exercise 2\n",
    "Reshape the training and test data sets so that images of size (num_px, num_px, 3) are flattened into single vectors of shape (num\\_px $*$ num\\_px $*$ 3, 1).\n",
    "\n",
    "A trick when you want to flatten a matrix X of shape (a,b,c,d) to a matrix X_flatten of shape (b$*$c$*$d, a) is to use: \n",
    "```python\n",
    "X_flatten = X.reshape(X.shape[0], -1).T      # X.T is the transpose of X\n",
    "```"
   ]
  },
  {
   "cell_type": "code",
   "execution_count": null,
   "metadata": {
    "deletable": false,
    "nbgrader": {
     "cell_type": "code",
     "checksum": "5a2aa62bdd8c01450111b758ef159aec",
     "grade": false,
     "grade_id": "cell-0f43921062c34e50",
     "locked": false,
     "schema_version": 3,
     "solution": true,
     "task": false
    }
   },
   "outputs": [],
   "source": [
    "# Reshape the training and test examples\n",
    "#(≈ 2 lines of code)\n",
    "# train_set_x_flatten = ...\n",
    "# test_set_x_flatten = ...\n",
    "# YOUR CODE STARTS HERE\n",
    "train_set_x_flatten= train_set_x_orig.reshape(train_set_x_orig.shape[0],-1).T\n",
    "test_set_x_flatten = test_set_x_orig.reshape(test_set_x_orig.shape[0],-1).T\n",
    "# YOUR CODE ENDS HERE\n",
    "\n",
    "# Check that the first 10 pixels of the second image are in the correct place\n",
    "assert np.alltrue(train_set_x_flatten[0:10, 1] == [196, 192, 190, 193, 186, 182, 188, 179, 174, 213]), \"Wrong solution. Use (X.shape[0], -1).T.\"\n",
    "assert np.alltrue(test_set_x_flatten[0:10, 1] == [115, 110, 111, 137, 129, 129, 155, 146, 145, 159]), \"Wrong solution. Use (X.shape[0], -1).T.\"\n",
    "\n",
    "print (\"train_set_x_flatten shape: \" + str(train_set_x_flatten.shape))\n",
    "print (\"train_set_y shape: \" + str(train_set_y.shape))\n",
    "print (\"test_set_x_flatten shape: \" + str(test_set_x_flatten.shape))\n",
    "print (\"test_set_y shape: \" + str(test_set_y.shape))"
   ]
  },
  {
   "cell_type": "markdown",
   "metadata": {},
   "source": [
    "**Expected Output**: \n",
    "\n",
    "<table style=\"width:35%\">\n",
    "  <tr>\n",
    "    <td>train_set_x_flatten shape</td>\n",
    "    <td> (12288, 209)</td> \n",
    "  </tr>\n",
    "  <tr>\n",
    "    <td>train_set_y shape</td>\n",
    "    <td>(1, 209)</td> \n",
    "  </tr>\n",
    "  <tr>\n",
    "    <td>test_set_x_flatten shape</td>\n",
    "    <td>(12288, 50)</td> \n",
    "  </tr>\n",
    "  <tr>\n",
    "    <td>test_set_y shape</td>\n",
    "    <td>(1, 50)</td> \n",
    "  </tr>\n",
    "</table>"
   ]
  },
  {
   "cell_type": "markdown",
   "metadata": {},
   "source": [
    "To represent color images, the red, green and blue channels (RGB) must be specified for each pixel, and so the pixel value is actually a vector of three numbers ranging from 0 to 255.\n",
    "\n",
    "One common preprocessing step in machine learning is to center and standardize your dataset, meaning that you substract the mean of the whole numpy array from each example, and then divide each example by the standard deviation of the whole numpy array. But for picture datasets, it is simpler and more convenient and works almost as well to just divide every row of the dataset by 255 (the maximum value of a pixel channel).\n",
    "\n",
    "<!-- During the training of your model, you're going to multiply weights and add biases to some initial inputs in order to observe neuron activations. Then you backpropogate with the gradients to train the model. But, it is extremely important for each feature to have a similar range such that our gradients don't explode. You will see that more in detail later in the lectures. !--> \n",
    "\n",
    "Let's standardize our dataset."
   ]
  },
  {
   "cell_type": "code",
   "execution_count": null,
   "metadata": {},
   "outputs": [],
   "source": [
    "train_set_x = train_set_x_flatten / 255.\n",
    "test_set_x = test_set_x_flatten / 255."
   ]
  },
  {
   "cell_type": "markdown",
   "metadata": {},
   "source": [
    "<font color='blue'>\n",
    "    \n",
    "    \n",
    "**What you need to remember:**\n",
    "\n",
    "Common steps for pre-processing a new dataset are:\n",
    "- Figure out the dimensions and shapes of the problem (m_train, m_test, num_px, ...)\n",
    "- Reshape the datasets such that each example is now a vector of size (num_px \\* num_px \\* 3, 1)\n",
    "- \"Standardize\" the data"
   ]
  },
  {
   "cell_type": "markdown",
   "metadata": {},
   "source": [
    "<a name='3'></a>\n",
    "## 3 - General Architecture of the learning algorithm ##\n",
    "\n",
    "It's time to design a simple algorithm to distinguish cat images from non-cat images.\n",
    "\n",
    "You will build a Logistic Regression, using a Neural Network mindset. The following Figure explains why **Logistic Regression is actually a very simple Neural Network!**\n",
    "\n",
    "<img src=\"images/LogReg_kiank.png\" style=\"width:650px;height:400px;\">\n",
    "\n",
    "**Mathematical expression of the algorithm**:\n",
    "\n",
    "For one example $x^{(i)}$:\n",
    "$$z^{(i)} = w^T x^{(i)} + b \\tag{1}$$\n",
    "$$\\hat{y}^{(i)} = a^{(i)} = sigmoid(z^{(i)})\\tag{2}$$ \n",
    "$$ \\mathcal{L}(a^{(i)}, y^{(i)}) =  - y^{(i)}  \\log(a^{(i)}) - (1-y^{(i)} )  \\log(1-a^{(i)})\\tag{3}$$\n",
    "\n",
    "The cost is then computed by summing over all training examples:\n",
    "$$ J = \\frac{1}{m} \\sum_{i=1}^m \\mathcal{L}(a^{(i)}, y^{(i)})\\tag{6}$$\n",
    "\n",
    "**Key steps**:\n",
    "In this exercise, you will carry out the following steps: \n",
    "    - Initialize the parameters of the model\n",
    "    - Learn the parameters for the model by minimizing the cost  \n",
    "    - Use the learned parameters to make predictions (on the test set)\n",
    "    - Analyse the results and conclude"
   ]
  },
  {
   "cell_type": "markdown",
   "metadata": {},
   "source": [
    "<a name='4'></a>\n",
    "## 4 - Building the parts of our algorithm ## \n",
    "\n",
    "The main steps for building a Neural Network are:\n",
    "1. Define the model structure (such as number of input features) \n",
    "2. Initialize the model's parameters\n",
    "3. Loop:\n",
    "    - Calculate current loss (forward propagation)\n",
    "    - Calculate current gradient (backward propagation)\n",
    "    - Update parameters (gradient descent)\n",
    "\n",
    "You often build 1-3 separately and integrate them into one function we call `model()`.\n",
    "\n",
    "<a name='4-1'></a>\n",
    "### 4.1 - Helper functions\n",
    "\n",
    "<a name='ex-3'></a>\n",
    "### Exercise 3 - sigmoid\n",
    "Using your code from \"Python Basics\", implement `sigmoid()`. As you've seen in the figure above, you need to compute $sigmoid(z) = \\frac{1}{1 + e^{-z}}$ for $z = w^T x + b$ to make predictions. Use np.exp()."
   ]
  },
  {
   "cell_type": "code",
   "execution_count": null,
   "metadata": {
    "deletable": false,
    "nbgrader": {
     "cell_type": "code",
     "checksum": "239ab1cf1028b721fd14f31b8103c40d",
     "grade": false,
     "grade_id": "cell-520521c430352f3b",
     "locked": false,
     "schema_version": 3,
     "solution": true,
     "task": false
    }
   },
   "outputs": [],
   "source": [
    "# GRADED FUNCTION: sigmoid\n",
    "\n",
    "def sigmoid(z):\n",
    "    \"\"\"\n",
    "    Compute the sigmoid of z\n",
    "\n",
    "    Arguments:\n",
    "    z -- A scalar or numpy array of any size.\n",
    "\n",
    "    Return:\n",
    "    s -- sigmoid(z)\n",
    "    \"\"\"\n",
    "\n",
    "    #(≈ 1 line of code)\n",
    "    # s = ...\n",
    "    # YOUR CODE STARTS HERE\n",
    "    s=1/(1+np.exp(-z))\n",
    "    \n",
    "    # YOUR CODE ENDS HERE\n",
    "    \n",
    "    return s"
   ]
  },
  {
   "cell_type": "code",
   "execution_count": null,
   "metadata": {
    "deletable": false,
    "editable": false,
    "nbgrader": {
     "cell_type": "code",
     "checksum": "0483e6820669111a9c5914d8b24bc315",
     "grade": true,
     "grade_id": "cell-30ea3151cab9c491",
     "locked": true,
     "points": 10,
     "schema_version": 3,
     "solution": false,
     "task": false
    }
   },
   "outputs": [],
   "source": [
    "print (\"sigmoid([0, 2]) = \" + str(sigmoid(np.array([0,2]))))\n",
    "\n",
    "sigmoid_test(sigmoid)"
   ]
  },
  {
   "cell_type": "code",
   "execution_count": null,
   "metadata": {},
   "outputs": [],
   "source": [
    "x = np.array([0.5, 0, 2.0])\n",
    "output = sigmoid(x)\n",
    "print(output)"
   ]
  },
  {
   "cell_type": "markdown",
   "metadata": {},
   "source": [
    "<a name='4-2'></a>\n",
    "### 4.2 - Initializing parameters\n",
    "\n",
    "<a name='ex-4'></a>\n",
    "### Exercise 4 - initialize_with_zeros\n",
    "Implement parameter initialization in the cell below. You have to initialize w as a vector of zeros. If you don't know what numpy function to use, look up np.zeros() in the Numpy library's documentation."
   ]
  },
  {
   "cell_type": "code",
   "execution_count": null,
   "metadata": {
    "deletable": false,
    "nbgrader": {
     "cell_type": "code",
     "checksum": "c4a37e375a85ddab7274a33abf46bb7c",
     "grade": false,
     "grade_id": "cell-befa9335e479864e",
     "locked": false,
     "schema_version": 3,
     "solution": true,
     "task": false
    }
   },
   "outputs": [],
   "source": [
    "# GRADED FUNCTION: initialize_with_zeros\n",
    "\n",
    "def initialize_with_zeros(dim):\n",
    "    \"\"\"\n",
    "    This function creates a vector of zeros of shape (dim, 1) for w and initializes b to 0.\n",
    "    \n",
    "    Argument:\n",
    "    dim -- size of the w vector we want (or number of parameters in this case)\n",
    "    \n",
    "    Returns:\n",
    "    w -- initialized vector of shape (dim, 1)\n",
    "    b -- initialized scalar (corresponds to the bias) of type float\n",
    "    \"\"\"\n",
    "    \n",
    "    # (≈ 2 lines of code)\n",
    "    # w = ...\n",
    "    # b = ...\n",
    "    # YOUR CODE STARTS HERE\n",
    "    \n",
    "    w=np.zeros([dim,1])\n",
    "    b=0.0\n",
    "    # YOUR CODE ENDS HERE\n",
    "\n",
    "    return w, b"
   ]
  },
  {
   "cell_type": "code",
   "execution_count": null,
   "metadata": {
    "deletable": false,
    "editable": false,
    "nbgrader": {
     "cell_type": "code",
     "checksum": "a4c13b0eafa46ca94de21b41faea8c58",
     "grade": true,
     "grade_id": "cell-a3b6699f145f3a3f",
     "locked": true,
     "points": 10,
     "schema_version": 3,
     "solution": false,
     "task": false
    }
   },
   "outputs": [],
   "source": [
    "dim = 2\n",
    "w, b = initialize_with_zeros(dim)\n",
    "\n",
    "assert type(b) == float\n",
    "print (\"w = \" + str(w))\n",
    "print (\"b = \" + str(b))\n",
    "\n",
    "initialize_with_zeros_test_1(initialize_with_zeros)\n",
    "initialize_with_zeros_test_2(initialize_with_zeros)\n"
   ]
  },
  {
   "cell_type": "markdown",
   "metadata": {},
   "source": [
    "<a name='4-3'></a>\n",
    "### 4.3 - Forward and Backward propagation\n",
    "\n",
    "Now that your parameters are initialized, you can do the \"forward\" and \"backward\" propagation steps for learning the parameters.\n",
    "\n",
    "<a name='ex-5'></a>\n",
    "### Exercise 5 - propagate\n",
    "Implement a function `propagate()` that computes the cost function and its gradient.\n",
    "\n",
    "**Hints**:\n",
    "\n",
    "Forward Propagation:\n",
    "- You get X\n",
    "- You compute $A = \\sigma(w^T X + b) = (a^{(1)}, a^{(2)}, ..., a^{(m-1)}, a^{(m)})$\n",
    "- You calculate the cost function: $J = -\\frac{1}{m}\\sum_{i=1}^{m}(y^{(i)}\\log(a^{(i)})+(1-y^{(i)})\\log(1-a^{(i)}))$\n",
    "\n",
    "Here are the two formulas you will be using: \n",
    "\n",
    "$$ \\frac{\\partial J}{\\partial w} = \\frac{1}{m}X(A-Y)^T\\tag{7}$$\n",
    "$$ \\frac{\\partial J}{\\partial b} = \\frac{1}{m} \\sum_{i=1}^m (a^{(i)}-y^{(i)})\\tag{8}$$"
   ]
  },
  {
   "cell_type": "code",
   "execution_count": null,
   "metadata": {
    "deletable": false,
    "nbgrader": {
     "cell_type": "code",
     "checksum": "2ff9081e51809aef5e93bc1c21dc9b7b",
     "grade": false,
     "grade_id": "cell-11af17e28077b3d3",
     "locked": false,
     "schema_version": 3,
     "solution": true,
     "task": false
    }
   },
   "outputs": [],
   "source": [
    "# GRADED FUNCTION: propagate\n",
    "\n",
    "def propagate(w, b, X, Y):\n",
    "    \"\"\"\n",
    "    Implement the cost function and its gradient for the propagation explained above\n",
    "\n",
    "    Arguments:\n",
    "    w -- weights, a numpy array of size (num_px * num_px * 3, 1)\n",
    "    b -- bias, a scalar\n",
    "    X -- data of size (num_px * num_px * 3, number of examples)\n",
    "    Y -- true \"label\" vector (containing 0 if non-cat, 1 if cat) of size (1, number of examples)\n",
    "\n",
    "    Return:\n",
    "    cost -- negative log-likelihood cost for logistic regression\n",
    "    dw -- gradient of the loss with respect to w, thus same shape as w\n",
    "    db -- gradient of the loss with respect to b, thus same shape as b\n",
    "    \n",
    "    Tips:\n",
    "    - Write your code step by step for the propagation. np.log(), np.dot()\n",
    "    \"\"\"\n",
    "    \n",
    "    m = X.shape[1]\n",
    "    \n",
    "    # FORWARD PROPAGATION (FROM X TO COST)\n",
    "    #(≈ 2 lines of code)\n",
    "    # compute activation\n",
    "    # A = ...\n",
    "    # compute cost by using np.dot to perform multiplication. \n",
    "    # And don't use loops for the sum.\n",
    "    # cost = ...                                \n",
    "    # YOUR CODE STARTS HERE\n",
    "    A=sigmoid(np.dot(w.T,X)+b)\n",
    "    cost=-1/m*(np.dot(Y,np.log(A).T)+ np.dot((1-Y),np.log(1-A).T))\n",
    "    \n",
    "    # YOUR CODE ENDS HERE\n",
    "\n",
    "    # BACKWARD PROPAGATION (TO FIND GRAD)\n",
    "    #(≈ 2 lines of code)\n",
    "    # dw = ...\n",
    "    # db = ...\n",
    "    # YOUR CODE STARTS HERE\n",
    "    dw = 1 / m *(np.dot(X,(A - Y).T))\n",
    "    db = 1 / m *(np.sum(A - Y))\n",
    "\n",
    "    # YOUR CODE ENDS HERE\n",
    "    cost = np.squeeze(np.array(cost))\n",
    "\n",
    "    \n",
    "    grads = {\"dw\": dw,\n",
    "             \"db\": db}\n",
    "    \n",
    "    return grads, cost"
   ]
  },
  {
   "cell_type": "code",
   "execution_count": null,
   "metadata": {
    "deletable": false,
    "editable": false,
    "nbgrader": {
     "cell_type": "code",
     "checksum": "b8a1a4b1ff8d70ac609d721490b4d826",
     "grade": true,
     "grade_id": "cell-d1594d75b61dd554",
     "locked": true,
     "points": 10,
     "schema_version": 3,
     "solution": false,
     "task": false
    }
   },
   "outputs": [],
   "source": [
    "w =  np.array([[1.], [2]])\n",
    "b = 1.5\n",
    "X = np.array([[1., -2., -1.], [3., 0.5, -3.2]])\n",
    "Y = np.array([[1, 1, 0]])\n",
    "grads, cost = propagate(w, b, X, Y)\n",
    "\n",
    "assert type(grads[\"dw\"]) == np.ndarray\n",
    "assert grads[\"dw\"].shape == (2, 1)\n",
    "assert type(grads[\"db\"]) == np.float64\n",
    "\n",
    "\n",
    "print (\"dw = \" + str(grads[\"dw\"]))\n",
    "print (\"db = \" + str(grads[\"db\"]))\n",
    "print (\"cost = \" + str(cost))\n",
    "\n",
    "propagate_test(propagate)"
   ]
  },
  {
   "cell_type": "markdown",
   "metadata": {},
   "source": [
    "**Expected output**\n",
    "\n",
    "```\n",
    "dw = [[ 0.25071532]\n",
    " [-0.06604096]]\n",
    "db = -0.1250040450043965\n",
    "cost = 0.15900537707692405\n",
    "```"
   ]
  },
  {
   "cell_type": "markdown",
   "metadata": {},
   "source": [
    "<a name='4-4'></a>\n",
    "### 4.4 - Optimization\n",
    "- You have initialized your parameters.\n",
    "- You are also able to compute a cost function and its gradient.\n",
    "- Now, you want to update the parameters using gradient descent.\n",
    "\n",
    "<a name='ex-6'></a>\n",
    "### Exercise 6 - optimize\n",
    "Write down the optimization function. The goal is to learn $w$ and $b$ by minimizing the cost function $J$. For a parameter $\\theta$, the update rule is $ \\theta = \\theta - \\alpha \\text{ } d\\theta$, where $\\alpha$ is the learning rate."
   ]
  },
  {
   "cell_type": "code",
   "execution_count": null,
   "metadata": {
    "deletable": false,
    "nbgrader": {
     "cell_type": "code",
     "checksum": "49d9b4c1a780bf141c8eb48e06cbb494",
     "grade": false,
     "grade_id": "cell-616d6883e807448d",
     "locked": false,
     "schema_version": 3,
     "solution": true,
     "task": false
    }
   },
   "outputs": [],
   "source": [
    "# GRADED FUNCTION: optimize\n",
    "\n",
    "def optimize(w, b, X, Y, num_iterations=100, learning_rate=0.009, print_cost=False):\n",
    "    \"\"\"\n",
    "    This function optimizes w and b by running a gradient descent algorithm\n",
    "    \n",
    "    Arguments:\n",
    "    w -- weights, a numpy array of size (num_px * num_px * 3, 1)\n",
    "    b -- bias, a scalar\n",
    "    X -- data of shape (num_px * num_px * 3, number of examples)\n",
    "    Y -- true \"label\" vector (containing 0 if non-cat, 1 if cat), of shape (1, number of examples)\n",
    "    num_iterations -- number of iterations of the optimization loop\n",
    "    learning_rate -- learning rate of the gradient descent update rule\n",
    "    print_cost -- True to print the loss every 100 steps\n",
    "    \n",
    "    Returns:\n",
    "    params -- dictionary containing the weights w and bias b\n",
    "    grads -- dictionary containing the gradients of the weights and bias with respect to the cost function\n",
    "    costs -- list of all the costs computed during the optimization, this will be used to plot the learning curve.\n",
    "    \n",
    "    Tips:\n",
    "    You basically need to write down two steps and iterate through them:\n",
    "        1) Calculate the cost and the gradient for the current parameters. Use propagate().\n",
    "        2) Update the parameters using gradient descent rule for w and b.\n",
    "    \"\"\"\n",
    "    \n",
    "    w = copy.deepcopy(w)\n",
    "    b = copy.deepcopy(b)\n",
    "    \n",
    "    costs = []\n",
    "    \n",
    "    for i in range(num_iterations):\n",
    "        # (≈ 1 lines of code)\n",
    "        # Cost and gradient calculation \n",
    "        # grads, cost = ...\n",
    "        # YOUR CODE STARTS HERE\n",
    "        grads,cost=propagate(w, b, X, Y)\n",
    "        \n",
    "        # YOUR CODE ENDS HERE\n",
    "        \n",
    "        # Retrieve derivatives from grads\n",
    "        dw = grads[\"dw\"]\n",
    "        db = grads[\"db\"]\n",
    "        \n",
    "        # update rule (≈ 2 lines of code)\n",
    "        # w = ...\n",
    "        # b = ...\n",
    "        # YOUR CODE STARTS HERE\n",
    "        w=w-learning_rate*dw\n",
    "        b=b-learning_rate*db\n",
    "        \n",
    "        # YOUR CODE ENDS HERE\n",
    "        \n",
    "        # Record the costs\n",
    "        if i % 100 == 0:\n",
    "            costs.append(cost)\n",
    "        \n",
    "            # Print the cost every 100 training iterations\n",
    "            if print_cost:\n",
    "                print (\"Cost after iteration %i: %f\" %(i, cost))\n",
    "    \n",
    "    params = {\"w\": w,\n",
    "              \"b\": b}\n",
    "    \n",
    "    grads = {\"dw\": dw,\n",
    "             \"db\": db}\n",
    "    \n",
    "    return params, grads, costs"
   ]
  },
  {
   "cell_type": "code",
   "execution_count": null,
   "metadata": {
    "deletable": false,
    "editable": false,
    "nbgrader": {
     "cell_type": "code",
     "checksum": "b65a5c90f86a990614156e41f64b4678",
     "grade": true,
     "grade_id": "cell-8e3d43fbb82a8901",
     "locked": true,
     "points": 10,
     "schema_version": 3,
     "solution": false,
     "task": false
    }
   },
   "outputs": [],
   "source": [
    "params, grads, costs = optimize(w, b, X, Y, num_iterations=100, learning_rate=0.009, print_cost=False)\n",
    "\n",
    "print (\"w = \" + str(params[\"w\"]))\n",
    "print (\"b = \" + str(params[\"b\"]))\n",
    "print (\"dw = \" + str(grads[\"dw\"]))\n",
    "print (\"db = \" + str(grads[\"db\"]))\n",
    "print(\"Costs = \" + str(costs))\n",
    "\n",
    "optimize_test(optimize)"
   ]
  },
  {
   "cell_type": "markdown",
   "metadata": {},
   "source": [
    "<a name='ex-7'></a>\n",
    "### Exercise 7 - predict\n",
    "The previous function will output the learned w and b. We are able to use w and b to predict the labels for a dataset X. Implement the `predict()` function. There are two steps to computing predictions:\n",
    "\n",
    "1. Calculate $\\hat{Y} = A = \\sigma(w^T X + b)$\n",
    "\n",
    "2. Convert the entries of a into 0 (if activation <= 0.5) or 1 (if activation > 0.5), stores the predictions in a vector `Y_prediction`. If you wish, you can use an `if`/`else` statement in a `for` loop (though there is also a way to vectorize this). "
   ]
  },
  {
   "cell_type": "code",
   "execution_count": null,
   "metadata": {
    "deletable": false,
    "nbgrader": {
     "cell_type": "code",
     "checksum": "e56419b97ebf382a8f93ac2873988887",
     "grade": false,
     "grade_id": "cell-d6f924f49c51dc2f",
     "locked": false,
     "schema_version": 3,
     "solution": true,
     "task": false
    }
   },
   "outputs": [],
   "source": [
    "# GRADED FUNCTION: predict\n",
    "\n",
    "def predict(w, b, X):\n",
    "    '''\n",
    "    Predict whether the label is 0 or 1 using learned logistic regression parameters (w, b)\n",
    "    \n",
    "    Arguments:\n",
    "    w -- weights, a numpy array of size (num_px * num_px * 3, 1)\n",
    "    b -- bias, a scalar\n",
    "    X -- data of size (num_px * num_px * 3, number of examples)\n",
    "    \n",
    "    Returns:\n",
    "    Y_prediction -- a numpy array (vector) containing all predictions (0/1) for the examples in X\n",
    "    '''\n",
    "    \n",
    "    m = X.shape[1]\n",
    "    Y_prediction = np.zeros((1, m))\n",
    "    w = w.reshape(X.shape[0], 1)\n",
    "    \n",
    "    # Compute vector \"A\" predicting the probabilities of a cat being present in the picture\n",
    "    #(≈ 1 line of code)\n",
    "    # A = ...\n",
    "    # YOUR CODE STARTS HERE\n",
    "    A=sigmoid(np.dot(w.T,X)+b)\n",
    "    \n",
    "    # YOUR CODE ENDS HERE\n",
    "    \n",
    "    for i in range(A.shape[1]):\n",
    "        \n",
    "        # Convert probabilities A[0,i] to actual predictions p[0,i]\n",
    "        #(≈ 4 lines of code)\n",
    "        # if A[0, i] > ____ :\n",
    "        #     Y_prediction[0,i] = \n",
    "        # else:\n",
    "        #     Y_prediction[0,i] = \n",
    "        # YOUR CODE STARTS HERE\n",
    "        if A[0,i]<=0.5:\n",
    "            Y_prediction[0,i]=0\n",
    "        else:\n",
    "            Y_prediction[0,i]=1\n",
    "        \n",
    "        \n",
    "        # YOUR CODE ENDS HERE\n",
    "    \n",
    "    return Y_prediction"
   ]
  },
  {
   "cell_type": "code",
   "execution_count": null,
   "metadata": {
    "deletable": false,
    "editable": false,
    "nbgrader": {
     "cell_type": "code",
     "checksum": "e3ea12608f15798d542a07c1bc9f561b",
     "grade": true,
     "grade_id": "cell-90b1fb967269548c",
     "locked": true,
     "points": 10,
     "schema_version": 3,
     "solution": false,
     "task": false
    }
   },
   "outputs": [],
   "source": [
    "w = np.array([[0.1124579], [0.23106775]])\n",
    "b = -0.3\n",
    "X = np.array([[1., -1.1, -3.2],[1.2, 2., 0.1]])\n",
    "print (\"predictions = \" + str(predict(w, b, X)))\n",
    "\n",
    "predict_test(predict)"
   ]
  },
  {
   "cell_type": "markdown",
   "metadata": {},
   "source": [
    "<font color='blue'>\n",
    "    \n",
    "**What to remember:**\n",
    "    \n",
    "You've implemented several functions that:\n",
    "- Initialize (w,b)\n",
    "- Optimize the loss iteratively to learn parameters (w,b):\n",
    "    - Computing the cost and its gradient \n",
    "    - Updating the parameters using gradient descent\n",
    "- Use the learned (w,b) to predict the labels for a given set of examples"
   ]
  },
  {
   "cell_type": "markdown",
   "metadata": {},
   "source": [
    "<a name='5'></a>\n",
    "## 5 - Merge all functions into a model ##\n",
    "\n",
    "You will now see how the overall model is structured by putting together all the building blocks (functions implemented in the previous parts) together, in the right order.\n",
    "\n",
    "<a name='ex-8'></a>\n",
    "### Exercise 8 - model\n",
    "Implement the model function. Use the following notation:\n",
    "    - Y_prediction_test for your predictions on the test set\n",
    "    - Y_prediction_train for your predictions on the train set\n",
    "    - parameters, grads, costs for the outputs of optimize()"
   ]
  },
  {
   "cell_type": "code",
   "execution_count": null,
   "metadata": {
    "deletable": false,
    "nbgrader": {
     "cell_type": "code",
     "checksum": "f23cca6cfb750397e5d2ac44977e2c2a",
     "grade": false,
     "grade_id": "cell-6dcba5967c4cbf8c",
     "locked": false,
     "schema_version": 3,
     "solution": true,
     "task": false
    }
   },
   "outputs": [],
   "source": [
    "# GRADED FUNCTION: model\n",
    "\n",
    "def model(X_train, Y_train, X_test, Y_test, num_iterations=2000, learning_rate=0.5, print_cost=False):\n",
    "    \"\"\"\n",
    "    Builds the logistic regression model by calling the function you've implemented previously\n",
    "    \n",
    "    Arguments:\n",
    "    X_train -- training set represented by a numpy array of shape (num_px * num_px * 3, m_train)\n",
    "    Y_train -- training labels represented by a numpy array (vector) of shape (1, m_train)\n",
    "    X_test -- test set represented by a numpy array of shape (num_px * num_px * 3, m_test)\n",
    "    Y_test -- test labels represented by a numpy array (vector) of shape (1, m_test)\n",
    "    num_iterations -- hyperparameter representing the number of iterations to optimize the parameters\n",
    "    learning_rate -- hyperparameter representing the learning rate used in the update rule of optimize()\n",
    "    print_cost -- Set to True to print the cost every 100 iterations\n",
    "    \n",
    "    Returns:\n",
    "    d -- dictionary containing information about the model.\n",
    "    \"\"\"\n",
    "    # (≈ 1 line of code)   \n",
    "    # initialize parameters with zeros \n",
    "    # w, b = ...\n",
    "    w,b= initialize_with_zeros(X_train.shape[0])\n",
    "    #(≈ 1 line of code)\n",
    "    # Gradient descent \n",
    "    # params, grads, costs = ...\n",
    "    parameters, grads, costs =  optimize(w, b, X_train, Y_train, num_iterations, learning_rate, print_cost)\n",
    "    # Retrieve parameters w and b from dictionary \"params\"\n",
    "    # w = ...\n",
    "    # b = ...\n",
    "    w = parameters[\"w\"]\n",
    "    b = parameters[\"b\"]\n",
    "    # Predict test/train set examples (≈ 2 lines of code)\n",
    "    # Y_prediction_test = ...\n",
    "    # Y_prediction_train = ...\n",
    "    \n",
    "    # YOUR CODE STARTS HERE\n",
    "  \n",
    "    Y_prediction_test = predict(w, b, X_test)\n",
    "    Y_prediction_train = predict(w, b, X_train)\n",
    "    # YOUR CODE ENDS HERE\n",
    "\n",
    "    # Print train/test Errors\n",
    "    if print_cost:\n",
    "        print(\"train accuracy: {} %\".format(100 - np.mean(np.abs(Y_prediction_train - Y_train)) * 100))\n",
    "        print(\"test accuracy: {} %\".format(100 - np.mean(np.abs(Y_prediction_test - Y_test)) * 100))\n",
    "\n",
    "    \n",
    "    d = {\"costs\": costs,\n",
    "         \"Y_prediction_test\": Y_prediction_test, \n",
    "         \"Y_prediction_train\" : Y_prediction_train, \n",
    "         \"w\" : w, \n",
    "         \"b\" : b,\n",
    "         \"learning_rate\" : learning_rate,\n",
    "         \"num_iterations\": num_iterations}\n",
    "    \n",
    "    return d"
   ]
  },
  {
   "cell_type": "code",
   "execution_count": null,
   "metadata": {
    "deletable": false,
    "editable": false,
    "nbgrader": {
     "cell_type": "code",
     "checksum": "b468bc5ddf6ecc5c7dbcb9a02cfe0216",
     "grade": true,
     "grade_id": "cell-4170e070f3cde17e",
     "locked": true,
     "points": 10,
     "schema_version": 3,
     "solution": false,
     "task": false
    }
   },
   "outputs": [],
   "source": [
    "from public_tests import *\n",
    "\n",
    "model_test(model)"
   ]
  },
  {
   "cell_type": "markdown",
   "metadata": {},
   "source": [
    "If you pass all the tests, run the following cell to train your model."
   ]
  },
  {
   "cell_type": "code",
   "execution_count": null,
   "metadata": {},
   "outputs": [],
   "source": [
    "logistic_regression_model = model(train_set_x, train_set_y, test_set_x, test_set_y, num_iterations=2000, learning_rate=0.005, print_cost=True)"
   ]
  },
  {
   "cell_type": "markdown",
   "metadata": {},
   "source": [
    "**Comment**: Training accuracy is close to 100%. This is a good sanity check: your model is working and has high enough capacity to fit the training data. Test accuracy is 70%. It is actually not bad for this simple model, given the small dataset we used and that logistic regression is a linear classifier. But no worries, you'll build an even better classifier next week!\n",
    "\n",
    "Also, you see that the model is clearly overfitting the training data. Later in this specialization you will learn how to reduce overfitting, for example by using regularization. Using the code below (and changing the `index` variable) you can look at predictions on pictures of the test set."
   ]
  },
  {
   "cell_type": "code",
   "execution_count": null,
   "metadata": {},
   "outputs": [],
   "source": [
    "# Example of a picture that was wrongly classified.\n",
    "index = 1\n",
    "plt.imshow(test_set_x[:, index].reshape((num_px, num_px, 3)))\n",
    "print (\"y = \" + str(test_set_y[0,index]) + \", you predicted that it is a \\\"\" + classes[int(logistic_regression_model['Y_prediction_test'][0,index])].decode(\"utf-8\") +  \"\\\" picture.\")"
   ]
  },
  {
   "cell_type": "markdown",
   "metadata": {},
   "source": [
    "Let's also plot the cost function and the gradients."
   ]
  },
  {
   "cell_type": "code",
   "execution_count": null,
   "metadata": {},
   "outputs": [],
   "source": [
    "# Plot learning curve (with costs)\n",
    "costs = np.squeeze(logistic_regression_model['costs'])\n",
    "plt.plot(costs)\n",
    "plt.ylabel('cost')\n",
    "plt.xlabel('iterations (per hundreds)')\n",
    "plt.title(\"Learning rate =\" + str(logistic_regression_model[\"learning_rate\"]))\n",
    "plt.show()"
   ]
  },
  {
   "cell_type": "markdown",
   "metadata": {},
   "source": [
    "**Interpretation**:\n",
    "You can see the cost decreasing. It shows that the parameters are being learned. However, you see that you could train the model even more on the training set. Try to increase the number of iterations in the cell above and rerun the cells. You might see that the training set accuracy goes up, but the test set accuracy goes down. This is called overfitting. "
   ]
  },
  {
   "cell_type": "markdown",
   "metadata": {},
   "source": [
    "<a name='6'></a>\n",
    "## 6 - Further analysis (optional/ungraded exercise) ##\n",
    "\n",
    "Congratulations on building your first image classification model. Let's analyze it further, and examine possible choices for the learning rate $\\alpha$. "
   ]
  },
  {
   "cell_type": "markdown",
   "metadata": {},
   "source": [
    "#### Choice of learning rate ####\n",
    "\n",
    "**Reminder**:\n",
    "In order for Gradient Descent to work you must choose the learning rate wisely. The learning rate $\\alpha$  determines how rapidly we update the parameters. If the learning rate is too large we may \"overshoot\" the optimal value. Similarly, if it is too small we will need too many iterations to converge to the best values. That's why it is crucial to use a well-tuned learning rate.\n",
    "\n",
    "Let's compare the learning curve of our model with several choices of learning rates. Run the cell below. This should take about 1 minute. Feel free also to try different values than the three we have initialized the `learning_rates` variable to contain, and see what happens. "
   ]
  },
  {
   "cell_type": "code",
   "execution_count": null,
   "metadata": {},
   "outputs": [],
   "source": [
    "learning_rates = [0.01, 0.001, 0.0001]\n",
    "models = {}\n",
    "\n",
    "for lr in learning_rates:\n",
    "    print (\"Training a model with learning rate: \" + str(lr))\n",
    "    models[str(lr)] = model(train_set_x, train_set_y, test_set_x, test_set_y, num_iterations=1500, learning_rate=lr, print_cost=False)\n",
    "    print ('\\n' + \"-------------------------------------------------------\" + '\\n')\n",
    "\n",
    "for lr in learning_rates:\n",
    "    plt.plot(np.squeeze(models[str(lr)][\"costs\"]), label=str(models[str(lr)][\"learning_rate\"]))\n",
    "\n",
    "plt.ylabel('cost')\n",
    "plt.xlabel('iterations (hundreds)')\n",
    "\n",
    "legend = plt.legend(loc='upper center', shadow=True)\n",
    "frame = legend.get_frame()\n",
    "frame.set_facecolor('0.90')\n",
    "plt.show()"
   ]
  },
  {
   "cell_type": "markdown",
   "metadata": {},
   "source": [
    "**Interpretation**: \n",
    "- Different learning rates give different costs and thus different predictions results.\n",
    "- If the learning rate is too large (0.01), the cost may oscillate up and down. It may even diverge (though in this example, using 0.01 still eventually ends up at a good value for the cost). \n",
    "- A lower cost doesn't mean a better model. You have to check if there is possibly overfitting. It happens when the training accuracy is a lot higher than the test accuracy.\n",
    "- In deep learning, we usually recommend that you: \n",
    "    - Choose the learning rate that better minimizes the cost function.\n",
    "    - If your model overfits, use other techniques to reduce overfitting. (We'll talk about this in later videos.) \n"
   ]
  },
  {
   "cell_type": "markdown",
   "metadata": {},
   "source": [
    "<a name='7'></a>\n",
    "## 7 - Test with your own image (optional/ungraded exercise) ##\n",
    "\n",
    "Congratulations on finishing this assignment. You can use your own image and see the output of your model. To do that:\n",
    "    1. Click on \"File\" in the upper bar of this notebook, then click \"Open\" to go on your Coursera Hub.\n",
    "    2. Add your image to this Jupyter Notebook's directory, in the \"images\" folder\n",
    "    3. Change your image's name in the following code\n",
    "    4. Run the code and check if the algorithm is right (1 = cat, 0 = non-cat)!"
   ]
  },
  {
   "cell_type": "code",
   "execution_count": 26,
   "metadata": {},
   "outputs": [
    {
     "name": "stdout",
     "output_type": "stream",
     "text": [
      "y = 0.0, your algorithm predicts a \"non-cat\" picture.\n"
     ]
    },
    {
     "data": {
      "image/png": "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\n",
      "text/plain": [
       "<Figure size 432x288 with 1 Axes>"
      ]
     },
     "metadata": {
      "needs_background": "light"
     },
     "output_type": "display_data"
    }
   ],
   "source": [
    "# change this to the name of your image file\n",
    "my_image = \"54bc8fc8-f7f3-4932-a11c-36828e935e3e.jfif\"   \n",
    "\n",
    "# We preprocess the image to fit your algorithm.\n",
    "fname = \"images/\" + my_image\n",
    "image = np.array(Image.open(fname).resize((num_px, num_px)))\n",
    "plt.imshow(image)\n",
    "image = image / 255.\n",
    "image = image.reshape((1, num_px * num_px * 3)).T\n",
    "my_predicted_image = predict(logistic_regression_model[\"w\"], logistic_regression_model[\"b\"], image)\n",
    "\n",
    "print(\"y = \" + str(np.squeeze(my_predicted_image)) + \", your algorithm predicts a \\\"\" + classes[int(np.squeeze(my_predicted_image)),].decode(\"utf-8\") +  \"\\\" picture.\")"
   ]
  },
  {
   "cell_type": "markdown",
   "metadata": {},
   "source": [
    "<font color='blue'>\n",
    "    \n",
    "**What to remember from this assignment:**\n",
    "1. Preprocessing the dataset is important.\n",
    "2. You implemented each function separately: initialize(), propagate(), optimize(). Then you built a model().\n",
    "3. Tuning the learning rate (which is an example of a \"hyperparameter\") can make a big difference to the algorithm. You will see more examples of this later in this course!"
   ]
  },
  {
   "cell_type": "markdown",
   "metadata": {},
   "source": [
    "Finally, if you'd like, we invite you to try different things on this Notebook. Make sure you submit before trying anything. Once you submit, things you can play with include:\n",
    "    - Play with the learning rate and the number of iterations\n",
    "    - Try different initialization methods and compare the results\n",
    "    - Test other preprocessings (center the data, or divide each row by its standard deviation)"
   ]
  },
  {
   "cell_type": "markdown",
   "metadata": {},
   "source": [
    "Bibliography:\n",
    "- http://www.wildml.com/2015/09/implementing-a-neural-network-from-scratch/\n",
    "- https://stats.stackexchange.com/questions/211436/why-do-we-normalize-images-by-subtracting-the-datasets-image-mean-and-not-the-c"
   ]
  },
  {
   "cell_type": "code",
   "execution_count": null,
   "metadata": {},
   "outputs": [],
   "source": []
  }
 ],
 "metadata": {
  "kernelspec": {
   "display_name": "Python 3",
   "language": "python",
   "name": "python3"
  },
  "language_info": {
   "codemirror_mode": {
    "name": "ipython",
    "version": 3
   },
   "file_extension": ".py",
   "mimetype": "text/x-python",
   "name": "python",
   "nbconvert_exporter": "python",
   "pygments_lexer": "ipython3",
   "version": "3.7.6"
  }
 },
 "nbformat": 4,
 "nbformat_minor": 2
}
